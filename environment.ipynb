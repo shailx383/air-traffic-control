{
 "cells": [
  {
   "cell_type": "code",
   "execution_count": 1,
   "metadata": {},
   "outputs": [],
   "source": [
    "import numpy as np\n",
    "import pandas as pd\n",
    "import matplotlib.pyplot as plt"
   ]
  },
  {
   "cell_type": "code",
   "execution_count": null,
   "metadata": {},
   "outputs": [],
   "source": [
    "class AirTrafficEnvironment:\n",
    "    def __init__(self, num_planes, num_spawnpoints, num_destinations, num_obstacles, lr, gamma, epsilon, load_q_table=False):\n",
    "        self.num_planes = num_planes\n",
    "        self.num_spawnpoints = num_spawnpoints\n",
    "        self.num_destinations = num_destinations\n",
    "        self.num_obstacles = num_obstacles\n",
    "        self.lr = lr\n",
    "        self.gamma = gamma\n",
    "        self.e = epsilon\n",
    "    def generate_episodes(self, num_episodes):\n",
    "        \n",
    "        "
   ]
  }
 ],
 "metadata": {
  "kernelspec": {
   "display_name": "env",
   "language": "python",
   "name": "python3"
  },
  "language_info": {
   "codemirror_mode": {
    "name": "ipython",
    "version": 3
   },
   "file_extension": ".py",
   "mimetype": "text/x-python",
   "name": "python",
   "nbconvert_exporter": "python",
   "pygments_lexer": "ipython3",
   "version": "3.10.6"
  },
  "orig_nbformat": 4
 },
 "nbformat": 4,
 "nbformat_minor": 2
}
